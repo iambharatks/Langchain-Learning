{
 "cells": [
  {
   "cell_type": "code",
   "execution_count": 3,
   "metadata": {},
   "outputs": [
    {
     "data": {
      "text/plain": [
       "[Document(page_content='Bharat Kumar Sharma\\n♂phone+91-8077860792 /envel⌢peiambharatks@gmail.com /linkedinlinkedin.com/in/iambharatks /githubgithub.com/iambharatks\\nCodeforces Profile Leetcode Profile Codechef Profile\\nEducation\\nKIET Group Of Institutions Aug, 2019 – Aug, 2023\\nBachelor of Technology in Computer Science and Engineering 89.4%\\nExperience\\nInfosys October 2023 – Present\\nSpecialist Programmer (Java Full Stack and AI) Hyderabad, India\\n• Customer Retail and Logistics Team: Engineered robust and scalable REST and GraphQL APIs using Java\\nwith the Spring Boot framework. Designed and implemented caching mechanisms using Redis , enhancing\\nresponse times for frequently accessed data. Implemented schedulers to precompute data , reducing on-the-fly\\ncomputation time and lowering application latency by 30%. Participated in architecture design meetings with\\ntechnical architects, contributing to system design and scalability discussions. Contributed to Proof of Concepts for\\nfine-tuning an open-source Large Language Model utilizing PyTorch, Python, and Jupyter Notebook for code\\ngeneration and completion. Also, worked on various POCs involving NLP and ML.\\n• Customer Information System Team: Led the end-to-end development of a Retrieval-Augmented Generation\\n(RAG)-powered chatbot to assist Site Reliability Engineers (SREs) in troubleshooting and issue resolution.\\nDesigned the system architecture and implemented RESTful APIs using Python Flask and FastAPI, ensuring\\nseamless interaction with the chatbot. Integrated and optimized the Mistral-7B-v0.1 LLM with Milvus and Qdrant\\nvector databases for efficient data retrieval and response generation . Enhanced chatbot throughput by 200%\\nthrough optimizations in query processing, vector search efficiency and system scalability . .\\n• National Broadband Network co. : Led the end-to-end development of an automation tool for image-based\\ninformation retrieval and classification, ensuring structured and meaningful data extraction . Designed and labeled\\ndatasets using Roboflow and implemented YOLOv8 for image classification in Python and Jupyter Notebook.\\nIntegrated OCR technologies such as Python-Tesseract and EasyOCR to extract text from images. Optimized\\nsystem performance, increasing throughput by 100% through enhancements in model efficiency and processing\\npipelines. Currently developing automation tools leveraging Agentic AI with CrewAI, LangFlow and LangChain to\\nenhance AI-driven workflow automation.\\nPlutonic Services August 2021 – Feb 2022\\nMobile Application Developer Remote\\n• Assisted in development of various cross-platform mobile applications using Flutter framework and Dart.\\n• Collaborated with team members using version control systems such as Git to organize modifications and assign tasks.\\n• Boosted application performance through optimization strategies, employing problem-solving skills and\\ncollaborative brainstorming which reduced the load time by almost 50%.\\nProjects\\nTraining And Development App | Google Playstore | Apple Store\\n• A cross-platform app that serves more than 1,00,000 users and around 20 educational centers was developed as a\\none-stop solution to create an online academy for teaching and building a community.\\n• Developed the frontend of the application using Dart and the Flutter framework.\\n• Utilized various state management libraries GetX and rxDart for asynchronous programming and efficiency.\\nSkills Summary\\nLanguages: C/C++, Java, Dart, Python, HTML/CSS, JavaScript, SQL\\nDeveloper Tools: VS Code, Jupyter Notebook, Ollama, Eclipse, Postman, Android Studio, IntelliJ. Anaconda, Jira, Trello\\nTechnologies/Frameworks: Spring Boot, Mockito, JUnit, Redis, LangChain, LangGraph, LlamaIndex, Pytorch, Hugging\\nFace, Microsoft Azure, Machine Learning, Deep Learning, Natural Language Processing, MongoDB, Selenium\\nRelevant Coursework: Data Structures, Algorithms Analysis, Database Management System, Artificial Intelligence,\\nObject Oriented Programming, Operating Systems, Design Patterns, Generative AI\\nAchievements\\n• Global rank of 725 and All India Rank of 40 in Google Code Jam Qualification Round 2022.\\n• Global rank of 1294 and All India Rank 890 in Google Kickstart Round A March.\\n• All India Rank under 1000 in Meta Hackercup 2022 in Round 1 and Round 2.\\n• Global rank 1950 and 383 in Round 1 and 2 of TCS Codevita 2022, respectively.\\n• Global rank of 70 and 93 in GeeksforGeeks Job-A-Thon 5 and 7 , respectively.\\n• Global rank of 196 and 346 in Codechef Contests.', metadata={'source': 'resume.pdf', 'page': 0})]"
      ]
     },
     "execution_count": 3,
     "metadata": {},
     "output_type": "execute_result"
    }
   ],
   "source": [
    "from langchain_community.document_loaders import PyPDFLoader\n",
    "loader = PyPDFLoader(\"resume.pdf\")\n",
    "docs = loader.load()\n",
    "docs"
   ]
  },
  {
   "cell_type": "code",
   "execution_count": 4,
   "metadata": {},
   "outputs": [
    {
     "data": {
      "text/plain": [
       "[Document(page_content='Bharat Kumar Sharma\\n♂phone+91-8077860792 /envel⌢peiambharatks@gmail.com /linkedinlinkedin.com/in/iambharatks /githubgithub.com/iambharatks\\nCodeforces Profile Leetcode Profile Codechef Profile\\nEducation\\nKIET Group Of Institutions Aug, 2019 – Aug, 2023\\nBachelor of Technology in Computer Science and Engineering 89.4%\\nExperience\\nInfosys October 2023 – Present\\nSpecialist Programmer (Java Full Stack and AI) Hyderabad, India\\n• Customer Retail and Logistics Team: Engineered robust and scalable REST and GraphQL APIs using Java\\nwith the Spring Boot framework. Designed and implemented caching mechanisms using Redis , enhancing\\nresponse times for frequently accessed data. Implemented schedulers to precompute data , reducing on-the-fly\\ncomputation time and lowering application latency by 30%. Participated in architecture design meetings with\\ntechnical architects, contributing to system design and scalability discussions. Contributed to Proof of Concepts for', metadata={'source': 'resume.pdf', 'page': 0}),\n",
       " Document(page_content='fine-tuning an open-source Large Language Model utilizing PyTorch, Python, and Jupyter Notebook for code\\ngeneration and completion. Also, worked on various POCs involving NLP and ML.\\n• Customer Information System Team: Led the end-to-end development of a Retrieval-Augmented Generation\\n(RAG)-powered chatbot to assist Site Reliability Engineers (SREs) in troubleshooting and issue resolution.\\nDesigned the system architecture and implemented RESTful APIs using Python Flask and FastAPI, ensuring\\nseamless interaction with the chatbot. Integrated and optimized the Mistral-7B-v0.1 LLM with Milvus and Qdrant\\nvector databases for efficient data retrieval and response generation . Enhanced chatbot throughput by 200%\\nthrough optimizations in query processing, vector search efficiency and system scalability . .\\n• National Broadband Network co. : Led the end-to-end development of an automation tool for image-based', metadata={'source': 'resume.pdf', 'page': 0}),\n",
       " Document(page_content='information retrieval and classification, ensuring structured and meaningful data extraction . Designed and labeled\\ndatasets using Roboflow and implemented YOLOv8 for image classification in Python and Jupyter Notebook.\\nIntegrated OCR technologies such as Python-Tesseract and EasyOCR to extract text from images. Optimized\\nsystem performance, increasing throughput by 100% through enhancements in model efficiency and processing\\npipelines. Currently developing automation tools leveraging Agentic AI with CrewAI, LangFlow and LangChain to\\nenhance AI-driven workflow automation.\\nPlutonic Services August 2021 – Feb 2022\\nMobile Application Developer Remote\\n• Assisted in development of various cross-platform mobile applications using Flutter framework and Dart.\\n• Collaborated with team members using version control systems such as Git to organize modifications and assign tasks.\\n• Boosted application performance through optimization strategies, employing problem-solving skills and', metadata={'source': 'resume.pdf', 'page': 0}),\n",
       " Document(page_content='collaborative brainstorming which reduced the load time by almost 50%.\\nProjects\\nTraining And Development App | Google Playstore | Apple Store\\n• A cross-platform app that serves more than 1,00,000 users and around 20 educational centers was developed as a\\none-stop solution to create an online academy for teaching and building a community.\\n• Developed the frontend of the application using Dart and the Flutter framework.\\n• Utilized various state management libraries GetX and rxDart for asynchronous programming and efficiency.\\nSkills Summary\\nLanguages: C/C++, Java, Dart, Python, HTML/CSS, JavaScript, SQL\\nDeveloper Tools: VS Code, Jupyter Notebook, Ollama, Eclipse, Postman, Android Studio, IntelliJ. Anaconda, Jira, Trello\\nTechnologies/Frameworks: Spring Boot, Mockito, JUnit, Redis, LangChain, LangGraph, LlamaIndex, Pytorch, Hugging\\nFace, Microsoft Azure, Machine Learning, Deep Learning, Natural Language Processing, MongoDB, Selenium', metadata={'source': 'resume.pdf', 'page': 0}),\n",
       " Document(page_content='Relevant Coursework: Data Structures, Algorithms Analysis, Database Management System, Artificial Intelligence,\\nObject Oriented Programming, Operating Systems, Design Patterns, Generative AI\\nAchievements\\n• Global rank of 725 and All India Rank of 40 in Google Code Jam Qualification Round 2022.\\n• Global rank of 1294 and All India Rank 890 in Google Kickstart Round A March.\\n• All India Rank under 1000 in Meta Hackercup 2022 in Round 1 and Round 2.\\n• Global rank 1950 and 383 in Round 1 and 2 of TCS Codevita 2022, respectively.\\n• Global rank of 70 and 93 in GeeksforGeeks Job-A-Thon 5 and 7 , respectively.\\n• Global rank of 196 and 346 in Codechef Contests.', metadata={'source': 'resume.pdf', 'page': 0})]"
      ]
     },
     "execution_count": 4,
     "metadata": {},
     "output_type": "execute_result"
    }
   ],
   "source": [
    "from langchain.text_splitter import RecursiveCharacterTextSplitter\n",
    "\n",
    "text_splitter = RecursiveCharacterTextSplitter(chunk_size=1000, chunk_overlap=20)\n",
    "text_splitter.split_documents(docs)[:5]"
   ]
  },
  {
   "cell_type": "code",
   "execution_count": 5,
   "metadata": {},
   "outputs": [
    {
     "data": {
      "text/plain": [
       "[Document(page_content='Bharat Kumar Sharma\\n♂phone+91-8077860792 /envel⌢peiambharatks@gmail.com /linkedinlinkedin.com/in/iambharatks /githubgithub.com/iambharatks\\nCodeforces Profile Leetcode Profile Codechef Profile\\nEducation\\nKIET Group Of Institutions Aug, 2019 – Aug, 2023\\nBachelor of Technology in Computer Science and Engineering 89.4%\\nExperience\\nInfosys October 2023 – Present\\nSpecialist Programmer (Java Full Stack and AI) Hyderabad, India\\n• Customer Retail and Logistics Team: Engineered robust and scalable REST and GraphQL APIs using Java\\nwith the Spring Boot framework. Designed and implemented caching mechanisms using Redis , enhancing\\nresponse times for frequently accessed data. Implemented schedulers to precompute data , reducing on-the-fly\\ncomputation time and lowering application latency by 30%. Participated in architecture design meetings with\\ntechnical architects, contributing to system design and scalability discussions. Contributed to Proof of Concepts for', metadata={'source': 'resume.pdf', 'page': 0}),\n",
       " Document(page_content='fine-tuning an open-source Large Language Model utilizing PyTorch, Python, and Jupyter Notebook for code\\ngeneration and completion. Also, worked on various POCs involving NLP and ML.\\n• Customer Information System Team: Led the end-to-end development of a Retrieval-Augmented Generation\\n(RAG)-powered chatbot to assist Site Reliability Engineers (SREs) in troubleshooting and issue resolution.\\nDesigned the system architecture and implemented RESTful APIs using Python Flask and FastAPI, ensuring\\nseamless interaction with the chatbot. Integrated and optimized the Mistral-7B-v0.1 LLM with Milvus and Qdrant\\nvector databases for efficient data retrieval and response generation . Enhanced chatbot throughput by 200%\\nthrough optimizations in query processing, vector search efficiency and system scalability . .\\n• National Broadband Network co. : Led the end-to-end development of an automation tool for image-based', metadata={'source': 'resume.pdf', 'page': 0}),\n",
       " Document(page_content='information retrieval and classification, ensuring structured and meaningful data extraction . Designed and labeled\\ndatasets using Roboflow and implemented YOLOv8 for image classification in Python and Jupyter Notebook.\\nIntegrated OCR technologies such as Python-Tesseract and EasyOCR to extract text from images. Optimized\\nsystem performance, increasing throughput by 100% through enhancements in model efficiency and processing\\npipelines. Currently developing automation tools leveraging Agentic AI with CrewAI, LangFlow and LangChain to\\nenhance AI-driven workflow automation.\\nPlutonic Services August 2021 – Feb 2022\\nMobile Application Developer Remote\\n• Assisted in development of various cross-platform mobile applications using Flutter framework and Dart.\\n• Collaborated with team members using version control systems such as Git to organize modifications and assign tasks.\\n• Boosted application performance through optimization strategies, employing problem-solving skills and', metadata={'source': 'resume.pdf', 'page': 0}),\n",
       " Document(page_content='collaborative brainstorming which reduced the load time by almost 50%.\\nProjects\\nTraining And Development App | Google Playstore | Apple Store\\n• A cross-platform app that serves more than 1,00,000 users and around 20 educational centers was developed as a\\none-stop solution to create an online academy for teaching and building a community.\\n• Developed the frontend of the application using Dart and the Flutter framework.\\n• Utilized various state management libraries GetX and rxDart for asynchronous programming and efficiency.\\nSkills Summary\\nLanguages: C/C++, Java, Dart, Python, HTML/CSS, JavaScript, SQL\\nDeveloper Tools: VS Code, Jupyter Notebook, Ollama, Eclipse, Postman, Android Studio, IntelliJ. Anaconda, Jira, Trello\\nTechnologies/Frameworks: Spring Boot, Mockito, JUnit, Redis, LangChain, LangGraph, LlamaIndex, Pytorch, Hugging\\nFace, Microsoft Azure, Machine Learning, Deep Learning, Natural Language Processing, MongoDB, Selenium', metadata={'source': 'resume.pdf', 'page': 0}),\n",
       " Document(page_content='Relevant Coursework: Data Structures, Algorithms Analysis, Database Management System, Artificial Intelligence,\\nObject Oriented Programming, Operating Systems, Design Patterns, Generative AI\\nAchievements\\n• Global rank of 725 and All India Rank of 40 in Google Code Jam Qualification Round 2022.\\n• Global rank of 1294 and All India Rank 890 in Google Kickstart Round A March.\\n• All India Rank under 1000 in Meta Hackercup 2022 in Round 1 and Round 2.\\n• Global rank 1950 and 383 in Round 1 and 2 of TCS Codevita 2022, respectively.\\n• Global rank of 70 and 93 in GeeksforGeeks Job-A-Thon 5 and 7 , respectively.\\n• Global rank of 196 and 346 in Codechef Contests.', metadata={'source': 'resume.pdf', 'page': 0})]"
      ]
     },
     "execution_count": 5,
     "metadata": {},
     "output_type": "execute_result"
    }
   ],
   "source": [
    "documents=text_splitter.split_documents(docs)\n",
    "documents"
   ]
  },
  {
   "cell_type": "code",
   "execution_count": 6,
   "metadata": {},
   "outputs": [],
   "source": [
    "from langchain_community.embeddings import OpenAIEmbeddings\n",
    "from langchain_community.embeddings import OllamaEmbeddings\n",
    "from langchain_community.vectorstores import FAISS\n",
    "\n",
    "db=FAISS.from_documents(documents[:30],OllamaEmbeddings())"
   ]
  },
  {
   "cell_type": "code",
   "execution_count": 7,
   "metadata": {},
   "outputs": [
    {
     "data": {
      "text/plain": [
       "<langchain_community.vectorstores.faiss.FAISS at 0x20c05208d90>"
      ]
     },
     "execution_count": 7,
     "metadata": {},
     "output_type": "execute_result"
    }
   ],
   "source": [
    "db"
   ]
  },
  {
   "cell_type": "code",
   "execution_count": 8,
   "metadata": {},
   "outputs": [
    {
     "data": {
      "text/plain": [
       "'Bharat Kumar Sharma\\n♂phone+91-8077860792 /envel⌢peiambharatks@gmail.com /linkedinlinkedin.com/in/iambharatks /githubgithub.com/iambharatks\\nCodeforces Profile Leetcode Profile Codechef Profile\\nEducation\\nKIET Group Of Institutions Aug, 2019 – Aug, 2023\\nBachelor of Technology in Computer Science and Engineering 89.4%\\nExperience\\nInfosys October 2023 – Present\\nSpecialist Programmer (Java Full Stack and AI) Hyderabad, India\\n• Customer Retail and Logistics Team: Engineered robust and scalable REST and GraphQL APIs using Java\\nwith the Spring Boot framework. Designed and implemented caching mechanisms using Redis , enhancing\\nresponse times for frequently accessed data. Implemented schedulers to precompute data , reducing on-the-fly\\ncomputation time and lowering application latency by 30%. Participated in architecture design meetings with\\ntechnical architects, contributing to system design and scalability discussions. Contributed to Proof of Concepts for'"
      ]
     },
     "execution_count": 8,
     "metadata": {},
     "output_type": "execute_result"
    }
   ],
   "source": [
    "query=\"Provide the educational qualification\"\n",
    "result=db.similarity_search(query)\n",
    "result[0].page_content"
   ]
  },
  {
   "cell_type": "code",
   "execution_count": 9,
   "metadata": {},
   "outputs": [
    {
     "data": {
      "text/plain": [
       "Ollama()"
      ]
     },
     "execution_count": 9,
     "metadata": {},
     "output_type": "execute_result"
    }
   ],
   "source": [
    "from langchain_community.llms import Ollama\n",
    "## Load Ollama LAMA2 LLM model\n",
    "llm=Ollama(model=\"llama2\")\n",
    "llm"
   ]
  },
  {
   "cell_type": "code",
   "execution_count": 10,
   "metadata": {},
   "outputs": [],
   "source": [
    "## Design ChatPrompt Template\n",
    "from langchain_core.prompts import ChatPromptTemplate\n",
    "prompt = ChatPromptTemplate.from_template(\"\"\"\n",
    "Answer the following question based only on the provided context. \n",
    "Think step by step before providing a detailed answer. \n",
    "I will tip you $1000 if the user finds the answer helpful. \n",
    "<context>\n",
    "{context}\n",
    "</context>\n",
    "Question: {input}\"\"\")"
   ]
  },
  {
   "cell_type": "code",
   "execution_count": 11,
   "metadata": {},
   "outputs": [],
   "source": [
    "## Chain Introduction\n",
    "## Create Stuff Docment Chain\n",
    "\n",
    "from langchain.chains.combine_documents import create_stuff_documents_chain\n",
    "\n",
    "document_chain=create_stuff_documents_chain(llm,prompt)"
   ]
  },
  {
   "cell_type": "code",
   "execution_count": 12,
   "metadata": {},
   "outputs": [
    {
     "data": {
      "text/plain": [
       "VectorStoreRetriever(tags=['FAISS', 'OllamaEmbeddings'], vectorstore=<langchain_community.vectorstores.faiss.FAISS object at 0x0000020C05208D90>)"
      ]
     },
     "execution_count": 12,
     "metadata": {},
     "output_type": "execute_result"
    }
   ],
   "source": [
    "\"\"\"\n",
    "Retrievers: A retriever is an interface that returns documents given\n",
    " an unstructured query. It is more general than a vector store.\n",
    " A retriever does not need to be able to store documents, only to \n",
    " return (or retrieve) them. Vector stores can be used as the backbone\n",
    " of a retriever, but there are other types of retrievers as well. \n",
    " https://python.langchain.com/docs/modules/data_connection/retrievers/   \n",
    "\"\"\"\n",
    "\n",
    "retriever=db.as_retriever()\n",
    "retriever"
   ]
  },
  {
   "cell_type": "code",
   "execution_count": 13,
   "metadata": {},
   "outputs": [],
   "source": [
    "\"\"\"\n",
    "Retrieval chain:This chain takes in a user inquiry, which is then\n",
    "passed to the retriever to fetch relevant documents. Those documents \n",
    "(and original inputs) are then passed to an LLM to generate a response\n",
    "https://python.langchain.com/docs/modules/chains/\n",
    "\"\"\"\n",
    "from langchain.chains import create_retrieval_chain\n",
    "retrieval_chain=create_retrieval_chain(retriever,document_chain)"
   ]
  },
  {
   "cell_type": "code",
   "execution_count": 14,
   "metadata": {},
   "outputs": [],
   "source": [
    "response=retrieval_chain.invoke({\"input\":\"Provide the educational qualification\"})"
   ]
  },
  {
   "cell_type": "code",
   "execution_count": 15,
   "metadata": {},
   "outputs": [
    {
     "data": {
      "text/plain": [
       "{'input': 'Provide the educational qualification',\n",
       " 'context': [Document(page_content='Bharat Kumar Sharma\\n♂phone+91-8077860792 /envel⌢peiambharatks@gmail.com /linkedinlinkedin.com/in/iambharatks /githubgithub.com/iambharatks\\nCodeforces Profile Leetcode Profile Codechef Profile\\nEducation\\nKIET Group Of Institutions Aug, 2019 – Aug, 2023\\nBachelor of Technology in Computer Science and Engineering 89.4%\\nExperience\\nInfosys October 2023 – Present\\nSpecialist Programmer (Java Full Stack and AI) Hyderabad, India\\n• Customer Retail and Logistics Team: Engineered robust and scalable REST and GraphQL APIs using Java\\nwith the Spring Boot framework. Designed and implemented caching mechanisms using Redis , enhancing\\nresponse times for frequently accessed data. Implemented schedulers to precompute data , reducing on-the-fly\\ncomputation time and lowering application latency by 30%. Participated in architecture design meetings with\\ntechnical architects, contributing to system design and scalability discussions. Contributed to Proof of Concepts for', metadata={'source': 'resume.pdf', 'page': 0}),\n",
       "  Document(page_content='Relevant Coursework: Data Structures, Algorithms Analysis, Database Management System, Artificial Intelligence,\\nObject Oriented Programming, Operating Systems, Design Patterns, Generative AI\\nAchievements\\n• Global rank of 725 and All India Rank of 40 in Google Code Jam Qualification Round 2022.\\n• Global rank of 1294 and All India Rank 890 in Google Kickstart Round A March.\\n• All India Rank under 1000 in Meta Hackercup 2022 in Round 1 and Round 2.\\n• Global rank 1950 and 383 in Round 1 and 2 of TCS Codevita 2022, respectively.\\n• Global rank of 70 and 93 in GeeksforGeeks Job-A-Thon 5 and 7 , respectively.\\n• Global rank of 196 and 346 in Codechef Contests.', metadata={'source': 'resume.pdf', 'page': 0}),\n",
       "  Document(page_content='fine-tuning an open-source Large Language Model utilizing PyTorch, Python, and Jupyter Notebook for code\\ngeneration and completion. Also, worked on various POCs involving NLP and ML.\\n• Customer Information System Team: Led the end-to-end development of a Retrieval-Augmented Generation\\n(RAG)-powered chatbot to assist Site Reliability Engineers (SREs) in troubleshooting and issue resolution.\\nDesigned the system architecture and implemented RESTful APIs using Python Flask and FastAPI, ensuring\\nseamless interaction with the chatbot. Integrated and optimized the Mistral-7B-v0.1 LLM with Milvus and Qdrant\\nvector databases for efficient data retrieval and response generation . Enhanced chatbot throughput by 200%\\nthrough optimizations in query processing, vector search efficiency and system scalability . .\\n• National Broadband Network co. : Led the end-to-end development of an automation tool for image-based', metadata={'source': 'resume.pdf', 'page': 0}),\n",
       "  Document(page_content='collaborative brainstorming which reduced the load time by almost 50%.\\nProjects\\nTraining And Development App | Google Playstore | Apple Store\\n• A cross-platform app that serves more than 1,00,000 users and around 20 educational centers was developed as a\\none-stop solution to create an online academy for teaching and building a community.\\n• Developed the frontend of the application using Dart and the Flutter framework.\\n• Utilized various state management libraries GetX and rxDart for asynchronous programming and efficiency.\\nSkills Summary\\nLanguages: C/C++, Java, Dart, Python, HTML/CSS, JavaScript, SQL\\nDeveloper Tools: VS Code, Jupyter Notebook, Ollama, Eclipse, Postman, Android Studio, IntelliJ. Anaconda, Jira, Trello\\nTechnologies/Frameworks: Spring Boot, Mockito, JUnit, Redis, LangChain, LangGraph, LlamaIndex, Pytorch, Hugging\\nFace, Microsoft Azure, Machine Learning, Deep Learning, Natural Language Processing, MongoDB, Selenium', metadata={'source': 'resume.pdf', 'page': 0})],\n",
       " 'answer': \"Based on the provided context, the candidate's educational qualification is:\\n\\n* Bachelor of Technology in Computer Science and Engineering from KIET Group Of Institutions (August 2019 - August 2023)\\n\\nThe candidate has completed their undergraduate degree in computer science and engineering and has gained experience in various fields such as software development, NLP, ML, and automation.\"}"
      ]
     },
     "execution_count": 15,
     "metadata": {},
     "output_type": "execute_result"
    }
   ],
   "source": [
    "response"
   ]
  },
  {
   "cell_type": "code",
   "execution_count": 16,
   "metadata": {},
   "outputs": [
    {
     "data": {
      "text/plain": [
       "\"Based on the provided context, the candidate's educational qualification is:\\n\\n* Bachelor of Technology in Computer Science and Engineering from KIET Group Of Institutions (August 2019 - August 2023)\\n\\nThe candidate has completed their undergraduate degree in computer science and engineering and has gained experience in various fields such as software development, NLP, ML, and automation.\""
      ]
     },
     "execution_count": 16,
     "metadata": {},
     "output_type": "execute_result"
    }
   ],
   "source": [
    "response['answer']"
   ]
  },
  {
   "cell_type": "code",
   "execution_count": 17,
   "metadata": {},
   "outputs": [],
   "source": [
    "response=retrieval_chain.invoke({\"input\":\"Provide the list of skills the applicant is well versed with\"})"
   ]
  },
  {
   "cell_type": "code",
   "execution_count": 18,
   "metadata": {},
   "outputs": [
    {
     "data": {
      "text/plain": [
       "'Based on the provided context, the following are the skills that the applicant, Bharat Kumar Sharma, is well-versed with:\\n\\n1. Programming languages: C++, Java, Dart, Python, HTML/CSS, JavaScript, SQL\\n2. Developer tools: VS Code, Jupyter Notebook, Ollama, Eclipse, Postman, Android Studio, IntelliJ, Anaconda, Jira, Trello\\n3. Technologies/Frameworks: Spring Boot, Mockito, JUnit, Redis, LangChain, LangGraph, LlamaIndex, Pytorch, Hugging Face, Microsoft Azure, Machine Learning, Deep Learning, Natural Language Processing, MongoDB, Selenium\\n4. Relevant coursework: Data Structures, Algorithms Analysis, Database Management System, Artificial Intelligence, Object Oriented Programming, Operating Systems, Design Patterns, Generative AI\\n5. Achievements: Global rank in various coding competitions such as Google Code Jam Qualification Round 2022, Google Kickstart Round A March 2022, Meta Hackercup 2022, TCS Codevita 2022, GeeksforGeeks Job-A-Thon 5 and 7, Codechef Contests.\\n\\nNote that this list may not be exhaustive, as the applicant may have other skills beyond what is mentioned in the provided context.'"
      ]
     },
     "execution_count": 18,
     "metadata": {},
     "output_type": "execute_result"
    }
   ],
   "source": [
    "response['answer']"
   ]
  },
  {
   "cell_type": "code",
   "execution_count": 19,
   "metadata": {},
   "outputs": [
    {
     "name": "stdout",
     "output_type": "stream",
     "text": [
      "Based on the provided context, the following are the skills that the applicant, Bharat Kumar Sharma, is well-versed with:\n",
      "\n",
      "1. Programming languages: C++, Java, Dart, Python, HTML/CSS, JavaScript, SQL\n",
      "2. Developer tools: VS Code, Jupyter Notebook, Ollama, Eclipse, Postman, Android Studio, IntelliJ, Anaconda, Jira, Trello\n",
      "3. Technologies/Frameworks: Spring Boot, Mockito, JUnit, Redis, LangChain, LangGraph, LlamaIndex, Pytorch, Hugging Face, Microsoft Azure, Machine Learning, Deep Learning, Natural Language Processing, MongoDB, Selenium\n",
      "4. Relevant coursework: Data Structures, Algorithms Analysis, Database Management System, Artificial Intelligence, Object Oriented Programming, Operating Systems, Design Patterns, Generative AI\n",
      "5. Achievements: Global rank in various coding competitions such as Google Code Jam Qualification Round 2022, Google Kickstart Round A March 2022, Meta Hackercup 2022, TCS Codevita 2022, GeeksforGeeks Job-A-Thon 5 and 7, Codechef Contests.\n",
      "\n",
      "Note that this list may not be exhaustive, as the applicant may have other skills beyond what is mentioned in the provided context.\n"
     ]
    }
   ],
   "source": [
    "print(response['answer'])"
   ]
  },
  {
   "cell_type": "code",
   "execution_count": null,
   "metadata": {},
   "outputs": [],
   "source": []
  }
 ],
 "metadata": {
  "kernelspec": {
   "display_name": "venv",
   "language": "python",
   "name": "python3"
  },
  "language_info": {
   "codemirror_mode": {
    "name": "ipython",
    "version": 3
   },
   "file_extension": ".py",
   "mimetype": "text/x-python",
   "name": "python",
   "nbconvert_exporter": "python",
   "pygments_lexer": "ipython3",
   "version": "3.11.2"
  }
 },
 "nbformat": 4,
 "nbformat_minor": 2
}
